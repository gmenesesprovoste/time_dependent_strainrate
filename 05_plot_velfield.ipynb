{
 "cells": [
  {
   "cell_type": "markdown",
   "id": "5712a7f6",
   "metadata": {},
   "source": [
    "\n",
    "Created on Tue Sep  6 13:41:06 2022\n",
    "@author: gmeneses\n",
    "\n",
    "Use: \n",
    "- Plot velocity field (all spatial scales) \n",
    "\n",
    "Description: \n",
    "- Input: \"plot_obsvel_multipleTapefolder.sh\", test folders with vel files inside \n",
    "- Output: velocity field \"png files\" stored in the folder \"videovelfield\"\n",
    "\n",
    "Description bash script plot_obsvel_multipleTapefolder.sh:\n",
    "- \n",
    "- \n"
   ]
  },
  {
   "cell_type": "code",
   "execution_count": 1,
   "id": "5acea304",
   "metadata": {},
   "outputs": [],
   "source": [
    "import re,os,subprocess,glob\n",
    "import shutil\n",
    "import numpy as np"
   ]
  },
  {
   "cell_type": "code",
   "execution_count": 2,
   "id": "96d6f1ef",
   "metadata": {},
   "outputs": [
    {
     "name": "stdout",
     "output_type": "stream",
     "text": [
      "2010.0\n",
      "test_20100_201011 20100_201011 cGPS_GrAtSiD_velocities_IGS14_italy_2010.0_2010.11_compearth_format.vel\n"
     ]
    },
    {
     "name": "stderr",
     "output_type": "stream",
     "text": [
      "gmtset: Representation of font type not recognized. Using default.\n"
     ]
    },
    {
     "name": "stdout",
     "output_type": "stream",
     "text": [
      "-T0/200/2.00000000000000000000\n"
     ]
    },
    {
     "name": "stderr",
     "output_type": "stream",
     "text": [
      "psvelo: psvelo: 2-D confidence interval and scaling factor 0.950000 2.447747\n",
      "psvelo: Number of records read: 223\n",
      "psvelo: psvelo: 2-D confidence interval and scaling factor 0.950000 2.447747\n",
      "psvelo: Number of records read: 1\n",
      "pstext: Processing input text table data\n",
      "pstext: Record 0 had bad justification info (set to LB)\n",
      "pstext: pstext: Plotted 1 text strings\n",
      "pscoast: parse_B_arg_inspector: Detected GMT 4 style elements in -B option\n",
      "pscoast: GSHHG version 2.3.7\n",
      "Derived from World Vector Shoreline, CIA WDB-II, and Atlas of the Cryosphere\n",
      "Processed by Paul Wessel and Walter H. F. Smith, 1994-2017\n",
      "pscoast: Working on bin #   723\n",
      "pscoast: Adding Borders...pscoast: Done\n",
      "psxy: Processing input table data\n",
      "psxy: Processing input table data\n",
      "pstext: Processing input text table data\n",
      "pstext: Record 0 had bad justification info (set to LB)\n",
      "pstext: pstext: Plotted 1 text strings\n",
      "psxy: Processing input table data\n",
      "psxy: Processing input table data\n",
      "psxy: Processing input table data\n",
      "psscale: Processing input CPT\n",
      "psscale:   CPT range from -20 to 20\n",
      "pscoast: parse_B_arg_inspector: Detected GMT 4 style elements in -B option\n",
      "pscoast: GSHHG version 2.3.7\n",
      "Derived from World Vector Shoreline, CIA WDB-II, and Atlas of the Cryosphere\n",
      "Processed by Paul Wessel and Walter H. F. Smith, 1994-2017\n",
      "pscoast: Working on bin #   723\n",
      "pscoast: Adding Borders...pscoast: Done\n"
     ]
    },
    {
     "name": "stdout",
     "output_type": "stream",
     "text": [
      "2011.0\n",
      "test_20110_201111 20110_201111 cGPS_GrAtSiD_velocities_IGS14_italy_2011.0_2011.11_compearth_format.vel\n"
     ]
    },
    {
     "name": "stderr",
     "output_type": "stream",
     "text": [
      "gmtset: Representation of font type not recognized. Using default.\n"
     ]
    },
    {
     "name": "stdout",
     "output_type": "stream",
     "text": [
      "-T0/200/2.00000000000000000000\n"
     ]
    },
    {
     "name": "stderr",
     "output_type": "stream",
     "text": [
      "psvelo: psvelo: 2-D confidence interval and scaling factor 0.950000 2.447747\n",
      "psvelo: Number of records read: 223\n",
      "psvelo: psvelo: 2-D confidence interval and scaling factor 0.950000 2.447747\n",
      "psvelo: Number of records read: 1\n",
      "pstext: Processing input text table data\n",
      "pstext: Record 0 had bad justification info (set to LB)\n",
      "pstext: pstext: Plotted 1 text strings\n",
      "pscoast: parse_B_arg_inspector: Detected GMT 4 style elements in -B option\n",
      "pscoast: GSHHG version 2.3.7\n",
      "Derived from World Vector Shoreline, CIA WDB-II, and Atlas of the Cryosphere\n",
      "Processed by Paul Wessel and Walter H. F. Smith, 1994-2017\n",
      "pscoast: Working on bin #   723\n",
      "pscoast: Adding Borders...pscoast: Done\n",
      "psxy: Processing input table data\n",
      "psxy: Processing input table data\n",
      "pstext: Processing input text table data\n",
      "pstext: Record 0 had bad justification info (set to LB)\n",
      "pstext: pstext: Plotted 1 text strings\n",
      "psxy: Processing input table data\n",
      "psxy: Processing input table data\n",
      "psxy: Processing input table data\n",
      "psscale: Processing input CPT\n",
      "psscale:   CPT range from -20 to 20\n",
      "pscoast: parse_B_arg_inspector: Detected GMT 4 style elements in -B option\n",
      "pscoast: GSHHG version 2.3.7\n",
      "Derived from World Vector Shoreline, CIA WDB-II, and Atlas of the Cryosphere\n",
      "Processed by Paul Wessel and Walter H. F. Smith, 1994-2017\n",
      "pscoast: Working on bin #   723\n",
      "pscoast: Adding Borders...pscoast: Done\n"
     ]
    },
    {
     "name": "stdout",
     "output_type": "stream",
     "text": [
      "2012.0\n",
      "test_20120_201211 20120_201211 cGPS_GrAtSiD_velocities_IGS14_italy_2012.0_2012.11_compearth_format.vel\n"
     ]
    },
    {
     "name": "stderr",
     "output_type": "stream",
     "text": [
      "gmtset: Representation of font type not recognized. Using default.\n"
     ]
    },
    {
     "name": "stdout",
     "output_type": "stream",
     "text": [
      "-T0/200/2.00000000000000000000\n"
     ]
    },
    {
     "name": "stderr",
     "output_type": "stream",
     "text": [
      "psvelo: psvelo: 2-D confidence interval and scaling factor 0.950000 2.447747\n",
      "psvelo: Number of records read: 223\n",
      "psvelo: psvelo: 2-D confidence interval and scaling factor 0.950000 2.447747\n",
      "psvelo: Number of records read: 1\n",
      "pstext: Processing input text table data\n",
      "pstext: Record 0 had bad justification info (set to LB)\n",
      "pstext: pstext: Plotted 1 text strings\n",
      "pscoast: parse_B_arg_inspector: Detected GMT 4 style elements in -B option\n",
      "pscoast: GSHHG version 2.3.7\n",
      "Derived from World Vector Shoreline, CIA WDB-II, and Atlas of the Cryosphere\n",
      "Processed by Paul Wessel and Walter H. F. Smith, 1994-2017\n",
      "pscoast: Working on bin #   723\n",
      "pscoast: Adding Borders...pscoast: Done\n",
      "psxy: Processing input table data\n",
      "psxy: Processing input table data\n",
      "pstext: Processing input text table data\n",
      "pstext: Record 0 had bad justification info (set to LB)\n",
      "pstext: pstext: Plotted 1 text strings\n",
      "psxy: Processing input table data\n",
      "psxy: Processing input table data\n",
      "psxy: Processing input table data\n",
      "psscale: Processing input CPT\n",
      "psscale:   CPT range from -20 to 20\n",
      "pscoast: parse_B_arg_inspector: Detected GMT 4 style elements in -B option\n",
      "pscoast: GSHHG version 2.3.7\n",
      "Derived from World Vector Shoreline, CIA WDB-II, and Atlas of the Cryosphere\n",
      "Processed by Paul Wessel and Walter H. F. Smith, 1994-2017\n",
      "pscoast: Working on bin #   723\n",
      "pscoast: Adding Borders...pscoast: Done\n"
     ]
    },
    {
     "name": "stdout",
     "output_type": "stream",
     "text": [
      "2013.0\n",
      "test_20130_201311 20130_201311 cGPS_GrAtSiD_velocities_IGS14_italy_2013.0_2013.11_compearth_format.vel\n"
     ]
    },
    {
     "name": "stderr",
     "output_type": "stream",
     "text": [
      "gmtset: Representation of font type not recognized. Using default.\n",
      "psvelo: psvelo: 2-D confidence interval and scaling factor 0.950000 2.447747\n",
      "psvelo: Number of records read: 223\n"
     ]
    },
    {
     "name": "stdout",
     "output_type": "stream",
     "text": [
      "-T0/200/2.00000000000000000000\n"
     ]
    },
    {
     "name": "stderr",
     "output_type": "stream",
     "text": [
      "psvelo: psvelo: 2-D confidence interval and scaling factor 0.950000 2.447747\n",
      "psvelo: Number of records read: 1\n",
      "pstext: Processing input text table data\n",
      "pstext: Record 0 had bad justification info (set to LB)\n",
      "pstext: pstext: Plotted 1 text strings\n",
      "pscoast: parse_B_arg_inspector: Detected GMT 4 style elements in -B option\n",
      "pscoast: GSHHG version 2.3.7\n",
      "Derived from World Vector Shoreline, CIA WDB-II, and Atlas of the Cryosphere\n",
      "Processed by Paul Wessel and Walter H. F. Smith, 1994-2017\n",
      "pscoast: Working on bin #   723\n",
      "pscoast: Adding Borders...pscoast: Done\n",
      "psxy: Processing input table data\n",
      "psxy: Processing input table data\n",
      "pstext: Processing input text table data\n",
      "pstext: Record 0 had bad justification info (set to LB)\n",
      "pstext: pstext: Plotted 1 text strings\n",
      "psxy: Processing input table data\n",
      "psxy: Processing input table data\n",
      "psxy: Processing input table data\n",
      "psscale: Processing input CPT\n",
      "psscale:   CPT range from -20 to 20\n",
      "pscoast: parse_B_arg_inspector: Detected GMT 4 style elements in -B option\n",
      "pscoast: GSHHG version 2.3.7\n",
      "Derived from World Vector Shoreline, CIA WDB-II, and Atlas of the Cryosphere\n",
      "Processed by Paul Wessel and Walter H. F. Smith, 1994-2017\n",
      "pscoast: Working on bin #   723\n",
      "pscoast: Adding Borders...pscoast: Done\n"
     ]
    },
    {
     "name": "stdout",
     "output_type": "stream",
     "text": [
      "2014.0\n",
      "test_20140_201411 20140_201411 cGPS_GrAtSiD_velocities_IGS14_italy_2014.0_2014.11_compearth_format.vel\n"
     ]
    },
    {
     "name": "stderr",
     "output_type": "stream",
     "text": [
      "gmtset: Representation of font type not recognized. Using default.\n"
     ]
    },
    {
     "name": "stdout",
     "output_type": "stream",
     "text": [
      "-T0/200/2.00000000000000000000\n"
     ]
    },
    {
     "name": "stderr",
     "output_type": "stream",
     "text": [
      "psvelo: psvelo: 2-D confidence interval and scaling factor 0.950000 2.447747\n",
      "psvelo: Number of records read: 223\n",
      "psvelo: psvelo: 2-D confidence interval and scaling factor 0.950000 2.447747\n",
      "psvelo: Number of records read: 1\n",
      "pstext: Processing input text table data\n",
      "pstext: Record 0 had bad justification info (set to LB)\n",
      "pstext: pstext: Plotted 1 text strings\n",
      "pscoast: parse_B_arg_inspector: Detected GMT 4 style elements in -B option\n",
      "pscoast: GSHHG version 2.3.7\n",
      "Derived from World Vector Shoreline, CIA WDB-II, and Atlas of the Cryosphere\n",
      "Processed by Paul Wessel and Walter H. F. Smith, 1994-2017\n",
      "pscoast: Working on bin #   723\n",
      "pscoast: Adding Borders...pscoast: Done\n",
      "psxy: Processing input table data\n",
      "psxy: Processing input table data\n",
      "pstext: Processing input text table data\n",
      "pstext: Record 0 had bad justification info (set to LB)\n",
      "pstext: pstext: Plotted 1 text strings\n",
      "psxy: Processing input table data\n",
      "psxy: Processing input table data\n",
      "psxy: Processing input table data\n",
      "psscale: Processing input CPT\n",
      "psscale:   CPT range from -20 to 20\n",
      "pscoast: parse_B_arg_inspector: Detected GMT 4 style elements in -B option\n",
      "pscoast: GSHHG version 2.3.7\n",
      "Derived from World Vector Shoreline, CIA WDB-II, and Atlas of the Cryosphere\n",
      "Processed by Paul Wessel and Walter H. F. Smith, 1994-2017\n",
      "pscoast: Working on bin #   723\n",
      "pscoast: Adding Borders...pscoast: Done\n"
     ]
    },
    {
     "name": "stdout",
     "output_type": "stream",
     "text": [
      "2015.0\n",
      "test_20150_201511 20150_201511 cGPS_GrAtSiD_velocities_IGS14_italy_2015.0_2015.11_compearth_format.vel\n"
     ]
    },
    {
     "name": "stderr",
     "output_type": "stream",
     "text": [
      "gmtset: Representation of font type not recognized. Using default.\n",
      "psvelo: psvelo: 2-D confidence interval and scaling factor 0.950000 2.447747\n"
     ]
    },
    {
     "name": "stdout",
     "output_type": "stream",
     "text": [
      "-T0/200/2.00000000000000000000\n"
     ]
    },
    {
     "name": "stderr",
     "output_type": "stream",
     "text": [
      "psvelo: Number of records read: 223\n",
      "psvelo: psvelo: 2-D confidence interval and scaling factor 0.950000 2.447747\n",
      "psvelo: Number of records read: 1\n",
      "pstext: Processing input text table data\n",
      "pstext: Record 0 had bad justification info (set to LB)\n",
      "pstext: pstext: Plotted 1 text strings\n",
      "pscoast: parse_B_arg_inspector: Detected GMT 4 style elements in -B option\n",
      "pscoast: GSHHG version 2.3.7\n",
      "Derived from World Vector Shoreline, CIA WDB-II, and Atlas of the Cryosphere\n",
      "Processed by Paul Wessel and Walter H. F. Smith, 1994-2017\n",
      "pscoast: Working on bin #   723\n",
      "pscoast: Adding Borders...pscoast: Done\n",
      "psxy: Processing input table data\n",
      "psxy: Processing input table data\n",
      "pstext: Processing input text table data\n",
      "pstext: Record 0 had bad justification info (set to LB)\n",
      "pstext: pstext: Plotted 1 text strings\n",
      "psxy: Processing input table data\n",
      "psxy: Processing input table data\n",
      "psxy: Processing input table data\n",
      "psscale: Processing input CPT\n",
      "psscale:   CPT range from -20 to 20\n",
      "pscoast: parse_B_arg_inspector: Detected GMT 4 style elements in -B option\n",
      "pscoast: GSHHG version 2.3.7\n",
      "Derived from World Vector Shoreline, CIA WDB-II, and Atlas of the Cryosphere\n",
      "Processed by Paul Wessel and Walter H. F. Smith, 1994-2017\n",
      "pscoast: Working on bin #   723\n",
      "pscoast: Adding Borders...pscoast: Done\n"
     ]
    },
    {
     "name": "stdout",
     "output_type": "stream",
     "text": [
      "2016.0\n",
      "test_20160_201611 20160_201611 cGPS_GrAtSiD_velocities_IGS14_italy_2016.0_2016.11_compearth_format.vel\n"
     ]
    },
    {
     "name": "stderr",
     "output_type": "stream",
     "text": [
      "gmtset: Representation of font type not recognized. Using default.\n",
      "psvelo: psvelo: 2-D confidence interval and scaling factor 0.950000 2.447747\n"
     ]
    },
    {
     "name": "stdout",
     "output_type": "stream",
     "text": [
      "-T0/200/2.00000000000000000000\n"
     ]
    },
    {
     "name": "stderr",
     "output_type": "stream",
     "text": [
      "psvelo: Number of records read: 223\n",
      "psvelo: psvelo: 2-D confidence interval and scaling factor 0.950000 2.447747\n",
      "psvelo: Number of records read: 1\n",
      "pstext: Processing input text table data\n",
      "pstext: Record 0 had bad justification info (set to LB)\n",
      "pstext: pstext: Plotted 1 text strings\n",
      "pscoast: parse_B_arg_inspector: Detected GMT 4 style elements in -B option\n",
      "pscoast: GSHHG version 2.3.7\n",
      "Derived from World Vector Shoreline, CIA WDB-II, and Atlas of the Cryosphere\n",
      "Processed by Paul Wessel and Walter H. F. Smith, 1994-2017\n",
      "pscoast: Working on bin #   723\n",
      "pscoast: Adding Borders...pscoast: Done\n",
      "psxy: Processing input table data\n",
      "psxy: Processing input table data\n",
      "pstext: Processing input text table data\n",
      "pstext: Record 0 had bad justification info (set to LB)\n",
      "pstext: pstext: Plotted 1 text strings\n",
      "psxy: Processing input table data\n",
      "psxy: Processing input table data\n",
      "psxy: Processing input table data\n",
      "psscale: Processing input CPT\n",
      "psscale:   CPT range from -20 to 20\n",
      "pscoast: parse_B_arg_inspector: Detected GMT 4 style elements in -B option\n",
      "pscoast: GSHHG version 2.3.7\n",
      "Derived from World Vector Shoreline, CIA WDB-II, and Atlas of the Cryosphere\n",
      "Processed by Paul Wessel and Walter H. F. Smith, 1994-2017\n",
      "pscoast: Working on bin #   723\n",
      "pscoast: Adding Borders...pscoast: Done\n"
     ]
    },
    {
     "name": "stdout",
     "output_type": "stream",
     "text": [
      "2017.0\n",
      "test_20170_201711 20170_201711 cGPS_GrAtSiD_velocities_IGS14_italy_2017.0_2017.11_compearth_format.vel\n"
     ]
    },
    {
     "name": "stderr",
     "output_type": "stream",
     "text": [
      "gmtset: Representation of font type not recognized. Using default.\n",
      "psvelo: psvelo: 2-D confidence interval and scaling factor 0.950000 2.447747\n"
     ]
    },
    {
     "name": "stdout",
     "output_type": "stream",
     "text": [
      "-T0/200/2.00000000000000000000\n"
     ]
    },
    {
     "name": "stderr",
     "output_type": "stream",
     "text": [
      "psvelo: Number of records read: 223\n",
      "psvelo: psvelo: 2-D confidence interval and scaling factor 0.950000 2.447747\n",
      "psvelo: Number of records read: 1\n",
      "pstext: Processing input text table data\n",
      "pstext: Record 0 had bad justification info (set to LB)\n",
      "pstext: pstext: Plotted 1 text strings\n",
      "pscoast: parse_B_arg_inspector: Detected GMT 4 style elements in -B option\n",
      "pscoast: GSHHG version 2.3.7\n",
      "Derived from World Vector Shoreline, CIA WDB-II, and Atlas of the Cryosphere\n",
      "Processed by Paul Wessel and Walter H. F. Smith, 1994-2017\n",
      "pscoast: Working on bin #   723\n",
      "pscoast: Adding Borders...pscoast: Done\n",
      "psxy: Processing input table data\n",
      "psxy: Processing input table data\n",
      "pstext: Processing input text table data\n",
      "pstext: Record 0 had bad justification info (set to LB)\n",
      "pstext: pstext: Plotted 1 text strings\n",
      "psxy: Processing input table data\n",
      "psxy: Processing input table data\n",
      "psxy: Processing input table data\n",
      "psscale: Processing input CPT\n",
      "psscale:   CPT range from -20 to 20\n",
      "pscoast: parse_B_arg_inspector: Detected GMT 4 style elements in -B option\n",
      "pscoast: GSHHG version 2.3.7\n",
      "Derived from World Vector Shoreline, CIA WDB-II, and Atlas of the Cryosphere\n",
      "Processed by Paul Wessel and Walter H. F. Smith, 1994-2017\n",
      "pscoast: Working on bin #   723\n",
      "pscoast: Adding Borders...pscoast: Done\n"
     ]
    },
    {
     "name": "stdout",
     "output_type": "stream",
     "text": [
      "2018.0\n",
      "test_20180_201811 20180_201811 cGPS_GrAtSiD_velocities_IGS14_italy_2018.0_2018.11_compearth_format.vel\n"
     ]
    },
    {
     "name": "stderr",
     "output_type": "stream",
     "text": [
      "gmtset: Representation of font type not recognized. Using default.\n",
      "psvelo: psvelo: 2-D confidence interval and scaling factor 0.950000 2.447747\n"
     ]
    },
    {
     "name": "stdout",
     "output_type": "stream",
     "text": [
      "-T0/200/2.00000000000000000000\n"
     ]
    },
    {
     "name": "stderr",
     "output_type": "stream",
     "text": [
      "psvelo: Number of records read: 223\n",
      "psvelo: psvelo: 2-D confidence interval and scaling factor 0.950000 2.447747\n",
      "psvelo: Number of records read: 1\n",
      "pstext: Processing input text table data\n",
      "pstext: Record 0 had bad justification info (set to LB)\n",
      "pstext: pstext: Plotted 1 text strings\n",
      "pscoast: parse_B_arg_inspector: Detected GMT 4 style elements in -B option\n",
      "pscoast: GSHHG version 2.3.7\n",
      "Derived from World Vector Shoreline, CIA WDB-II, and Atlas of the Cryosphere\n",
      "Processed by Paul Wessel and Walter H. F. Smith, 1994-2017\n",
      "pscoast: Working on bin #   723\n",
      "pscoast: Adding Borders...pscoast: Done\n",
      "psxy: Processing input table data\n",
      "psxy: Processing input table data\n",
      "pstext: Processing input text table data\n",
      "pstext: Record 0 had bad justification info (set to LB)\n",
      "pstext: pstext: Plotted 1 text strings\n",
      "psxy: Processing input table data\n",
      "psxy: Processing input table data\n",
      "psxy: Processing input table data\n",
      "psscale: Processing input CPT\n",
      "psscale:   CPT range from -20 to 20\n",
      "pscoast: parse_B_arg_inspector: Detected GMT 4 style elements in -B option\n",
      "pscoast: GSHHG version 2.3.7\n",
      "Derived from World Vector Shoreline, CIA WDB-II, and Atlas of the Cryosphere\n",
      "Processed by Paul Wessel and Walter H. F. Smith, 1994-2017\n",
      "pscoast: Working on bin #   723\n",
      "pscoast: Adding Borders...pscoast: Done\n"
     ]
    },
    {
     "name": "stdout",
     "output_type": "stream",
     "text": [
      "2019.0\n",
      "test_20190_201911 20190_201911 cGPS_GrAtSiD_velocities_IGS14_italy_2019.0_2019.11_compearth_format.vel\n"
     ]
    },
    {
     "name": "stderr",
     "output_type": "stream",
     "text": [
      "gmtset: Representation of font type not recognized. Using default.\n"
     ]
    },
    {
     "name": "stdout",
     "output_type": "stream",
     "text": [
      "-T0/200/2.00000000000000000000\n"
     ]
    },
    {
     "name": "stderr",
     "output_type": "stream",
     "text": [
      "psvelo: psvelo: 2-D confidence interval and scaling factor 0.950000 2.447747\n",
      "psvelo: Number of records read: 223\n",
      "psvelo: psvelo: 2-D confidence interval and scaling factor 0.950000 2.447747\n",
      "psvelo: Number of records read: 1\n",
      "pstext: Processing input text table data\n",
      "pstext: Record 0 had bad justification info (set to LB)\n",
      "pstext: pstext: Plotted 1 text strings\n",
      "pscoast: parse_B_arg_inspector: Detected GMT 4 style elements in -B option\n",
      "pscoast: GSHHG version 2.3.7\n",
      "Derived from World Vector Shoreline, CIA WDB-II, and Atlas of the Cryosphere\n",
      "Processed by Paul Wessel and Walter H. F. Smith, 1994-2017\n",
      "pscoast: Working on bin #   723\n",
      "pscoast: Adding Borders...pscoast: Done\n",
      "psxy: Processing input table data\n",
      "psxy: Processing input table data\n",
      "pstext: Processing input text table data\n",
      "pstext: Record 0 had bad justification info (set to LB)\n",
      "pstext: pstext: Plotted 1 text strings\n",
      "psxy: Processing input table data\n",
      "psxy: Processing input table data\n",
      "psxy: Processing input table data\n",
      "psscale: Processing input CPT\n",
      "psscale:   CPT range from -20 to 20\n",
      "pscoast: parse_B_arg_inspector: Detected GMT 4 style elements in -B option\n",
      "pscoast: GSHHG version 2.3.7\n",
      "Derived from World Vector Shoreline, CIA WDB-II, and Atlas of the Cryosphere\n",
      "Processed by Paul Wessel and Walter H. F. Smith, 1994-2017\n",
      "pscoast: Working on bin #   723\n",
      "pscoast: Adding Borders...pscoast: Done\n"
     ]
    }
   ],
   "source": [
    "# loop over test directories containing output files of surfacevel2strain (*dat files)\n",
    "ref = \"IGS14\"\n",
    "localdir=os.getcwd()\n",
    "os.makedirs(localdir+\"/videovelfield\",exist_ok=True)\n",
    "for testdir in sorted(glob.glob(localdir+\"/test_*/\")):\n",
    "    namedir = testdir.split(\"/\")[-2]\n",
    "    ini = namedir.split(\"_\")[1][0:4] + \".\" + namedir.split(\"_\")[1][4:]\n",
    "    print(ini)\n",
    "    fin = namedir.split(\"_\")[2][0:4] + \".\" + namedir.split(\"_\")[2][4:]\n",
    "    velfile = \"cGPS_GrAtSiD_velocities_\"+ref+\"_italy_\"+ini+\"_\"+fin+\"_compearth_format.vel\"\n",
    "    time = ini+\"_\"+fin\n",
    "    label = namedir[5:]\n",
    "    print(namedir,label, velfile)\n",
    "    subprocess.call(\"bash plot_obsvel_multipleTapefolder.sh \"+namedir+\" \"+label+\" \"+velfile , shell=True)\n",
    "    dest = localdir+ \"/videovelfield\"\n",
    "    png1 = \"hor_vel.png\"\n",
    "    newname1 = png1.split(\".\")[0]+\"_\"+label+\".png\"\n",
    "    png2 = \"ver_vel.png\"\n",
    "    newname2 = png2.split(\".\")[0]+\"_\"+label+\".png\"\n",
    "    shutil.move(localdir+\"/\"+namedir+\"/\"+png1 , dest+\"/\"+newname1)\n",
    "    shutil.move(localdir+\"/\"+namedir+\"/\"+png2 , dest+\"/\"+newname2)"
   ]
  },
  {
   "cell_type": "code",
   "execution_count": null,
   "id": "3371a06c",
   "metadata": {},
   "outputs": [],
   "source": []
  }
 ],
 "metadata": {
  "kernelspec": {
   "display_name": "Python 3 (ipykernel)",
   "language": "python",
   "name": "python3"
  },
  "language_info": {
   "codemirror_mode": {
    "name": "ipython",
    "version": 3
   },
   "file_extension": ".py",
   "mimetype": "text/x-python",
   "name": "python",
   "nbconvert_exporter": "python",
   "pygments_lexer": "ipython3",
   "version": "3.7.11"
  }
 },
 "nbformat": 4,
 "nbformat_minor": 5
}

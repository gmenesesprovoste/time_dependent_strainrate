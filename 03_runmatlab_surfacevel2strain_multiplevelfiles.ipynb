{
 "cells": [
  {
   "cell_type": "markdown",
   "id": "534d5e33",
   "metadata": {},
   "source": [
    "@author: Gianina Meneses Provoste\n",
    "\n",
    "Use: \n",
    "* Runs surfacevel2strain matlab script (Tape et al., 2009) for each of the velocity fields in ./vel_files folder.\n",
    "\n",
    "- It needs to run in a kernel where Matlab engine is installed.\n",
    "- In surfacevel2strain/matlab folder, modify \"get_gps_dataset.m\" according to your region (variables ropt, dopt)\n",
    "- Modify as well \"surfacevel2strain.m\" for your particular study case. I used a modified version of this script where figure plotting is commented, and user prompt is given (ropt, dopt, ireg, basistype, icov, ndim, imask,iwrite, dir_output, dir_data, qmin, qmax, etc.)\n",
    "\n",
    "Description: \n",
    "- Input: velocity files stored in \"vel_files\" folder \n",
    "- Output: creates folders \"test_datei_datef\" containing surfacevel2strain output dat files + velocity file for that particular period. \n",
    "\n"
   ]
  },
  {
   "cell_type": "code",
   "execution_count": 4,
   "id": "223cf2e2",
   "metadata": {},
   "outputs": [],
   "source": [
    "import re,os,subprocess,glob\n",
    "import shutil\n",
    "import numpy as np\n",
    "#import math\n",
    "import matlab.engine"
   ]
  },
  {
   "cell_type": "code",
   "execution_count": 5,
   "id": "f49e6bac",
   "metadata": {},
   "outputs": [],
   "source": [
    "# create here velocity random file from cGPS_italy_compearth_more2.5y_EU_mm_noislands.dat\n",
    "\n",
    "localdir=os.getcwd()\n",
    "outdir=\"/home/gmeneses/local/compearth-master/surfacevel2strain/matlab_output/current_test_results\" \n",
    "veldir=\"/home/gmeneses/local/compearth-master/surfacevel2strain/data/ITALY\"\n",
    "\n",
    "inputdir=\"./vel_files\""
   ]
  },
  {
   "cell_type": "code",
   "execution_count": 6,
   "id": "791816ee",
   "metadata": {},
   "outputs": [],
   "source": [
    "# calling the Matlab engine\n",
    "\n",
    "eng = matlab.engine.start_matlab()\n",
    "s = eng.genpath('/home/gmeneses/local/compearth-master/surfacevel2strain')\n",
    "eng.addpath(s, nargout=0)"
   ]
  },
  {
   "cell_type": "code",
   "execution_count": 7,
   "id": "40debf44",
   "metadata": {},
   "outputs": [],
   "source": [
    "# loop over \n",
    "for vfile in sorted(glob.glob(inputdir+\"/*IGS14*.vel\")):\n",
    "    vname = vfile.split(\"/\")[-1]\n",
    "    label = \"\".join(vname.split(\".\")[0:3]).split(\"_\")[5] + \"_\" + \"\".join(vname.split(\".\")[0:3]).split(\"_\")[6]\n",
    "    shutil.copy(inputdir+\"/\"+vname,veldir+\"/italy.vel\")\n",
    "    eng.surfacevel2strain(nargout=0)\n",
    "    source = outdir + \"/\"\n",
    "    dest = localdir+ \"/test_\"+label+\"/\"\n",
    "    os.makedirs(dest,exist_ok=True)\n",
    "    shutil.move(veldir+\"/italy.vel\",dest+vname)\n",
    "    allfiles = os.listdir(source)\n",
    "    for f in allfiles:\n",
    "        shutil.move(source + f, dest + f)"
   ]
  },
  {
   "cell_type": "code",
   "execution_count": null,
   "id": "a5a2f60b",
   "metadata": {},
   "outputs": [],
   "source": []
  }
 ],
 "metadata": {
  "kernelspec": {
   "display_name": "Python [conda env:py365]",
   "language": "python",
   "name": "conda-env-py365-py"
  },
  "language_info": {
   "codemirror_mode": {
    "name": "ipython",
    "version": 3
   },
   "file_extension": ".py",
   "mimetype": "text/x-python",
   "name": "python",
   "nbconvert_exporter": "python",
   "pygments_lexer": "ipython3",
   "version": "3.6.5"
  }
 },
 "nbformat": 4,
 "nbformat_minor": 5
}

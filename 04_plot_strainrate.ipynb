{
 "cells": [
  {
   "cell_type": "markdown",
   "id": "8b089ef3",
   "metadata": {},
   "source": [
    "Created on Tue Sep  6 13:41:06 2022\n",
    "@author: gmeneses\n",
    "\n",
    "Use: \n",
    "- Plot strain rate  \n",
    "\n",
    "Description: \n",
    "- Input: \"plot_secondinv_multipleTapefolder.sh\", test folders with vel files inside \n",
    "- Output: strain rate \"png files\" stored in the folder \"videostrainrate\"\n",
    "\n",
    "Description bash script plot_secondinv_multipleTapefolder.sh:\n",
    "- \n",
    "- \n",
    "\n"
   ]
  },
  {
   "cell_type": "code",
   "execution_count": 1,
   "id": "82f2d934",
   "metadata": {},
   "outputs": [],
   "source": [
    "import re,os,subprocess,glob\n",
    "import shutil\n",
    "import numpy as np\n",
    "import subprocess"
   ]
  },
  {
   "cell_type": "code",
   "execution_count": 3,
   "id": "c5db8534",
   "metadata": {},
   "outputs": [
    {
     "name": "stdout",
     "output_type": "stream",
     "text": [
      "2010.0\n",
      "test_20100_201011\n",
      "test_20100_201011 20100_201011 cGPS_GrAtSiD_velocities_IGS14_italy_2010.0_2010.11_compearth_format.vel 2010\n"
     ]
    },
    {
     "name": "stderr",
     "output_type": "stream",
     "text": [
      "gmtset: Representation of font type not recognized. Using default.\n"
     ]
    },
    {
     "name": "stdout",
     "output_type": "stream",
     "text": [
      "-T0/200/2.00000000000000000000\n"
     ]
    },
    {
     "name": "stderr",
     "output_type": "stream",
     "text": [
      "grdimage: Allocates memory and read data file ./test_20100_201011/tapestrain.grd\n",
      "grdimage: project grid files\n",
      "grdimage: Evaluate image pixel colors\n",
      "grdimage: Creating 24-bit color image\n",
      "PSL: Colormap of 99 colors created\n",
      "psmask: Allocate memory, read and process data file\n",
      "psmask: Processing input table data\n",
      "psmask: Read 4656 data points\n",
      "psmask: Tracing the clip path\n",
      "psmask: Clipping on!\n",
      "psmask: Clipping off!\n",
      "psxy: Processing input table data\n",
      "psscale: Processing input CPT\n",
      "psscale:   CPT range from 2010 to 2011\n",
      "psscale: Processing input CPT\n",
      "psscale:   CPT range from 0 to 200\n",
      "PSL: Warning: Use of colormap is inefficient - using 24-bit direct color instead.\n",
      "PSL: Warning: no deflate compression done.\n",
      "pscoast: parse_B_arg_inspector: Detected GMT 4 style elements in -B option\n",
      "pscoast: GSHHG version 2.3.7\n",
      "Derived from World Vector Shoreline, CIA WDB-II, and Atlas of the Cryosphere\n",
      "Processed by Paul Wessel and Walter H. F. Smith, 1994-2017\n",
      "pscoast: Working on bin #   723\n",
      "pscoast: Adding Borders...pscoast: Done\n"
     ]
    },
    {
     "name": "stdout",
     "output_type": "stream",
     "text": [
      "2011.0\n",
      "test_20110_201111\n",
      "test_20110_201111 20110_201111 cGPS_GrAtSiD_velocities_IGS14_italy_2011.0_2011.11_compearth_format.vel 2011\n"
     ]
    },
    {
     "name": "stderr",
     "output_type": "stream",
     "text": [
      "gmtset: Representation of font type not recognized. Using default.\n"
     ]
    },
    {
     "name": "stdout",
     "output_type": "stream",
     "text": [
      "-T0/200/2.00000000000000000000\n"
     ]
    },
    {
     "name": "stderr",
     "output_type": "stream",
     "text": [
      "grdimage: Allocates memory and read data file ./test_20110_201111/tapestrain.grd\n",
      "grdimage: project grid files\n",
      "grdimage: Evaluate image pixel colors\n",
      "grdimage: Creating 24-bit color image\n",
      "PSL: Colormap of 100 colors created\n",
      "psmask: Allocate memory, read and process data file\n",
      "psmask: Processing input table data\n",
      "psmask: Read 4779 data points\n",
      "psmask: Tracing the clip path\n",
      "psmask: Clipping on!\n",
      "psmask: Clipping off!\n",
      "psxy: Processing input table data\n",
      "psscale: Processing input CPT\n",
      "psscale:   CPT range from 2011 to 2012\n",
      "psscale: Processing input CPT\n",
      "psscale:   CPT range from 0 to 200\n",
      "PSL: Warning: Use of colormap is inefficient - using 24-bit direct color instead.\n",
      "PSL: Warning: no deflate compression done.\n",
      "pscoast: parse_B_arg_inspector: Detected GMT 4 style elements in -B option\n",
      "pscoast: GSHHG version 2.3.7\n",
      "Derived from World Vector Shoreline, CIA WDB-II, and Atlas of the Cryosphere\n",
      "Processed by Paul Wessel and Walter H. F. Smith, 1994-2017\n",
      "pscoast: Working on bin #   723\n",
      "pscoast: Adding Borders...pscoast: Done\n"
     ]
    },
    {
     "name": "stdout",
     "output_type": "stream",
     "text": [
      "2012.0\n",
      "test_20120_201211\n",
      "test_20120_201211 20120_201211 cGPS_GrAtSiD_velocities_IGS14_italy_2012.0_2012.11_compearth_format.vel 2012\n"
     ]
    },
    {
     "name": "stderr",
     "output_type": "stream",
     "text": [
      "gmtset: Representation of font type not recognized. Using default.\n"
     ]
    },
    {
     "name": "stdout",
     "output_type": "stream",
     "text": [
      "-T0/200/2.00000000000000000000\n"
     ]
    },
    {
     "name": "stderr",
     "output_type": "stream",
     "text": [
      "grdimage: Allocates memory and read data file ./test_20120_201211/tapestrain.grd\n",
      "grdimage: project grid files\n",
      "grdimage: Evaluate image pixel colors\n",
      "grdimage: Creating 24-bit color image\n",
      "PSL: Colormap of 99 colors created\n",
      "psmask: Allocate memory, read and process data file\n",
      "psmask: Processing input table data\n",
      "psmask: Read 4669 data points\n",
      "psmask: Tracing the clip path\n",
      "psmask: Clipping on!\n",
      "psmask: Clipping off!\n",
      "psxy: Processing input table data\n",
      "psscale: Processing input CPT\n",
      "psscale:   CPT range from 2012 to 2013\n",
      "psscale: Processing input CPT\n",
      "psscale:   CPT range from 0 to 200\n",
      "PSL: Warning: Use of colormap is inefficient - using 24-bit direct color instead.\n",
      "PSL: Warning: no deflate compression done.\n",
      "pscoast: parse_B_arg_inspector: Detected GMT 4 style elements in -B option\n",
      "pscoast: GSHHG version 2.3.7\n",
      "Derived from World Vector Shoreline, CIA WDB-II, and Atlas of the Cryosphere\n",
      "Processed by Paul Wessel and Walter H. F. Smith, 1994-2017\n",
      "pscoast: Working on bin #   723\n",
      "pscoast: Adding Borders...pscoast: Done\n"
     ]
    },
    {
     "name": "stdout",
     "output_type": "stream",
     "text": [
      "2013.0\n",
      "test_20130_201311\n",
      "test_20130_201311 20130_201311 cGPS_GrAtSiD_velocities_IGS14_italy_2013.0_2013.11_compearth_format.vel 2013\n"
     ]
    },
    {
     "name": "stderr",
     "output_type": "stream",
     "text": [
      "gmtset: Representation of font type not recognized. Using default.\n"
     ]
    },
    {
     "name": "stdout",
     "output_type": "stream",
     "text": [
      "-T0/200/2.00000000000000000000\n"
     ]
    },
    {
     "name": "stderr",
     "output_type": "stream",
     "text": [
      "grdimage: Allocates memory and read data file ./test_20130_201311/tapestrain.grd\n",
      "grdimage: project grid files\n",
      "grdimage: Evaluate image pixel colors\n",
      "grdimage: Creating 24-bit color image\n",
      "PSL: Colormap of 98 colors created\n",
      "psmask: Allocate memory, read and process data file\n",
      "psmask: Processing input table data\n",
      "psmask: Read 4857 data points\n",
      "psmask: Tracing the clip path\n",
      "psmask: Clipping on!\n",
      "psmask: Clipping off!\n",
      "psxy: Processing input table data\n",
      "psscale: Processing input CPT\n",
      "psscale:   CPT range from 2013 to 2014\n",
      "psscale: Processing input CPT\n",
      "psscale:   CPT range from 0 to 200\n",
      "PSL: Warning: Use of colormap is inefficient - using 24-bit direct color instead.\n",
      "PSL: Warning: no deflate compression done.\n",
      "pscoast: parse_B_arg_inspector: Detected GMT 4 style elements in -B option\n",
      "pscoast: GSHHG version 2.3.7\n",
      "Derived from World Vector Shoreline, CIA WDB-II, and Atlas of the Cryosphere\n",
      "Processed by Paul Wessel and Walter H. F. Smith, 1994-2017\n",
      "pscoast: Working on bin #   723\n",
      "pscoast: Adding Borders...pscoast: Done\n"
     ]
    },
    {
     "name": "stdout",
     "output_type": "stream",
     "text": [
      "2014.0\n",
      "test_20140_201411\n",
      "test_20140_201411 20140_201411 cGPS_GrAtSiD_velocities_IGS14_italy_2014.0_2014.11_compearth_format.vel 2014\n"
     ]
    },
    {
     "name": "stderr",
     "output_type": "stream",
     "text": [
      "gmtset: Representation of font type not recognized. Using default.\n"
     ]
    },
    {
     "name": "stdout",
     "output_type": "stream",
     "text": [
      "-T0/200/2.00000000000000000000\n"
     ]
    },
    {
     "name": "stderr",
     "output_type": "stream",
     "text": [
      "grdimage: Allocates memory and read data file ./test_20140_201411/tapestrain.grd\n",
      "grdimage: project grid files\n",
      "grdimage: Evaluate image pixel colors\n",
      "grdimage: Creating 24-bit color image\n",
      "PSL: Colormap of 94 colors created\n",
      "psmask: Allocate memory, read and process data file\n",
      "psmask: Processing input table data\n",
      "psmask: Read 4824 data points\n",
      "psmask: Tracing the clip path\n",
      "psmask: Clipping on!\n",
      "psmask: Clipping off!\n",
      "psxy: Processing input table data\n",
      "psscale: Processing input CPT\n",
      "psscale:   CPT range from 2014 to 2015\n",
      "psscale: Processing input CPT\n",
      "psscale:   CPT range from 0 to 200\n",
      "PSL: Warning: Use of colormap is inefficient - using 24-bit direct color instead.\n",
      "PSL: Warning: no deflate compression done.\n",
      "pscoast: parse_B_arg_inspector: Detected GMT 4 style elements in -B option\n",
      "pscoast: GSHHG version 2.3.7\n",
      "Derived from World Vector Shoreline, CIA WDB-II, and Atlas of the Cryosphere\n",
      "Processed by Paul Wessel and Walter H. F. Smith, 1994-2017\n",
      "pscoast: Working on bin #   723\n",
      "pscoast: Adding Borders...pscoast: Done\n"
     ]
    },
    {
     "name": "stdout",
     "output_type": "stream",
     "text": [
      "2015.0\n",
      "test_20150_201511\n",
      "test_20150_201511 20150_201511 cGPS_GrAtSiD_velocities_IGS14_italy_2015.0_2015.11_compearth_format.vel 2015\n"
     ]
    },
    {
     "name": "stderr",
     "output_type": "stream",
     "text": [
      "gmtset: Representation of font type not recognized. Using default.\n"
     ]
    },
    {
     "name": "stdout",
     "output_type": "stream",
     "text": [
      "-T0/200/2.00000000000000000000\n"
     ]
    },
    {
     "name": "stderr",
     "output_type": "stream",
     "text": [
      "grdimage: Allocates memory and read data file ./test_20150_201511/tapestrain.grd\n",
      "grdimage: project grid files\n",
      "grdimage: Evaluate image pixel colors\n",
      "grdimage: Creating 24-bit color image\n",
      "PSL: Colormap of 99 colors created\n",
      "psmask: Allocate memory, read and process data file\n",
      "psmask: Processing input table data\n",
      "psmask: Read 4746 data points\n",
      "psmask: Tracing the clip path\n",
      "psmask: Clipping on!\n",
      "psmask: Clipping off!\n",
      "psxy: Processing input table data\n",
      "psscale: Processing input CPT\n",
      "psscale:   CPT range from 2015 to 2016\n",
      "psscale: Processing input CPT\n",
      "psscale:   CPT range from 0 to 200\n",
      "PSL: Warning: Use of colormap is inefficient - using 24-bit direct color instead.\n",
      "PSL: Warning: no deflate compression done.\n",
      "pscoast: parse_B_arg_inspector: Detected GMT 4 style elements in -B option\n",
      "pscoast: GSHHG version 2.3.7\n",
      "Derived from World Vector Shoreline, CIA WDB-II, and Atlas of the Cryosphere\n",
      "Processed by Paul Wessel and Walter H. F. Smith, 1994-2017\n",
      "pscoast: Working on bin #   723\n",
      "pscoast: Adding Borders...pscoast: Done\n"
     ]
    },
    {
     "name": "stdout",
     "output_type": "stream",
     "text": [
      "2016.0\n",
      "test_20160_201611\n",
      "test_20160_201611 20160_201611 cGPS_GrAtSiD_velocities_IGS14_italy_2016.0_2016.11_compearth_format.vel 2016\n"
     ]
    },
    {
     "name": "stderr",
     "output_type": "stream",
     "text": [
      "gmtset: Representation of font type not recognized. Using default.\n"
     ]
    },
    {
     "name": "stdout",
     "output_type": "stream",
     "text": [
      "-T0/200/2.00000000000000000000\n"
     ]
    },
    {
     "name": "stderr",
     "output_type": "stream",
     "text": [
      "grdimage: Allocates memory and read data file ./test_20160_201611/tapestrain.grd\n",
      "grdimage: project grid files\n",
      "grdimage: Evaluate image pixel colors\n",
      "grdimage: Creating 24-bit color image\n",
      "PSL: Colormap of 99 colors created\n",
      "psmask: Allocate memory, read and process data file\n",
      "psmask: Processing input table data\n",
      "psmask: Read 4698 data points\n",
      "psmask: Tracing the clip path\n",
      "psmask: Clipping on!\n",
      "psmask: Clipping off!\n",
      "psxy: Processing input table data\n",
      "psscale: Processing input CPT\n",
      "psscale:   CPT range from 2016 to 2017\n",
      "psscale: Processing input CPT\n",
      "psscale:   CPT range from 0 to 200\n",
      "PSL: Warning: Use of colormap is inefficient - using 24-bit direct color instead.\n",
      "PSL: Warning: no deflate compression done.\n",
      "pscoast: parse_B_arg_inspector: Detected GMT 4 style elements in -B option\n",
      "pscoast: GSHHG version 2.3.7\n",
      "Derived from World Vector Shoreline, CIA WDB-II, and Atlas of the Cryosphere\n",
      "Processed by Paul Wessel and Walter H. F. Smith, 1994-2017\n",
      "pscoast: Working on bin #   723\n",
      "pscoast: Adding Borders...pscoast: Done\n"
     ]
    },
    {
     "name": "stdout",
     "output_type": "stream",
     "text": [
      "2017.0\n",
      "test_20170_201711\n",
      "test_20170_201711 20170_201711 cGPS_GrAtSiD_velocities_IGS14_italy_2017.0_2017.11_compearth_format.vel 2017\n"
     ]
    },
    {
     "name": "stderr",
     "output_type": "stream",
     "text": [
      "gmtset: Representation of font type not recognized. Using default.\n"
     ]
    },
    {
     "name": "stdout",
     "output_type": "stream",
     "text": [
      "-T0/200/2.00000000000000000000\n"
     ]
    },
    {
     "name": "stderr",
     "output_type": "stream",
     "text": [
      "grdimage: Allocates memory and read data file ./test_20170_201711/tapestrain.grd\n",
      "grdimage: project grid files\n",
      "grdimage: gmt_grd_project: Output grid extrema [1.69922/221.427] exceed extrema of input grid [1.69922/155.284] due to resampling\n",
      "grdimage: gmt_grd_project: Output grid clipped to input grid extrema\n",
      "grdimage: Evaluate image pixel colors\n",
      "grdimage: Creating 24-bit color image\n",
      "PSL: Colormap of 77 colors created\n",
      "psmask: Allocate memory, read and process data file\n",
      "psmask: Processing input table data\n",
      "psmask: Read 4771 data points\n",
      "psmask: Tracing the clip path\n",
      "psmask: Clipping on!\n",
      "psmask: Clipping off!\n",
      "psxy: Processing input table data\n",
      "psscale: Processing input CPT\n",
      "psscale:   CPT range from 2017 to 2018\n",
      "psscale: Processing input CPT\n",
      "psscale:   CPT range from 0 to 200\n",
      "PSL: Warning: Use of colormap is inefficient - using 24-bit direct color instead.\n",
      "PSL: Warning: no deflate compression done.\n",
      "pscoast: parse_B_arg_inspector: Detected GMT 4 style elements in -B option\n",
      "pscoast: GSHHG version 2.3.7\n",
      "Derived from World Vector Shoreline, CIA WDB-II, and Atlas of the Cryosphere\n",
      "Processed by Paul Wessel and Walter H. F. Smith, 1994-2017\n",
      "pscoast: Working on bin #   723\n",
      "pscoast: Adding Borders...pscoast: Done\n"
     ]
    },
    {
     "name": "stdout",
     "output_type": "stream",
     "text": [
      "2018.0\n",
      "test_20180_201811\n",
      "test_20180_201811 20180_201811 cGPS_GrAtSiD_velocities_IGS14_italy_2018.0_2018.11_compearth_format.vel 2018\n"
     ]
    },
    {
     "name": "stderr",
     "output_type": "stream",
     "text": [
      "gmtset: Representation of font type not recognized. Using default.\n"
     ]
    },
    {
     "name": "stdout",
     "output_type": "stream",
     "text": [
      "-T0/200/2.00000000000000000000\n"
     ]
    },
    {
     "name": "stderr",
     "output_type": "stream",
     "text": [
      "grdimage: Allocates memory and read data file ./test_20180_201811/tapestrain.grd\n",
      "grdimage: project grid files\n",
      "grdimage: gmt_grd_project: Output grid extrema [1.81852/168.049] exceed extrema of input grid [1.81852/154.365] due to resampling\n",
      "grdimage: gmt_grd_project: Output grid clipped to input grid extrema\n",
      "grdimage: Evaluate image pixel colors\n",
      "grdimage: Creating 24-bit color image\n",
      "PSL: Colormap of 78 colors created\n",
      "psmask: Allocate memory, read and process data file\n",
      "psmask: Processing input table data\n",
      "psmask: Read 4920 data points\n",
      "psmask: Tracing the clip path\n",
      "psmask: Clipping on!\n",
      "psmask: Clipping off!\n",
      "psxy: Processing input table data\n",
      "psscale: Processing input CPT\n",
      "psscale:   CPT range from 2018 to 2019\n",
      "psscale: Processing input CPT\n",
      "psscale:   CPT range from 0 to 200\n",
      "PSL: Warning: Use of colormap is inefficient - using 24-bit direct color instead.\n",
      "PSL: Warning: no deflate compression done.\n",
      "pscoast: parse_B_arg_inspector: Detected GMT 4 style elements in -B option\n",
      "pscoast: GSHHG version 2.3.7\n",
      "Derived from World Vector Shoreline, CIA WDB-II, and Atlas of the Cryosphere\n",
      "Processed by Paul Wessel and Walter H. F. Smith, 1994-2017\n",
      "pscoast: Working on bin #   723\n",
      "pscoast: Adding Borders...pscoast: Done\n"
     ]
    },
    {
     "name": "stdout",
     "output_type": "stream",
     "text": [
      "2019.0\n",
      "test_20190_201911\n",
      "test_20190_201911 20190_201911 cGPS_GrAtSiD_velocities_IGS14_italy_2019.0_2019.11_compearth_format.vel 2019\n"
     ]
    },
    {
     "name": "stderr",
     "output_type": "stream",
     "text": [
      "gmtset: Representation of font type not recognized. Using default.\n"
     ]
    },
    {
     "name": "stdout",
     "output_type": "stream",
     "text": [
      "-T0/200/2.00000000000000000000\n"
     ]
    },
    {
     "name": "stderr",
     "output_type": "stream",
     "text": [
      "grdimage: Allocates memory and read data file ./test_20190_201911/tapestrain.grd\n",
      "grdimage: project grid files\n",
      "grdimage: gmt_grd_project: Output grid extrema [1.00766/216.805] exceed extrema of input grid [1.00766/140.547] due to resampling\n",
      "grdimage: gmt_grd_project: Output grid clipped to input grid extrema\n",
      "grdimage: Evaluate image pixel colors\n",
      "grdimage: Creating 24-bit color image\n",
      "PSL: Colormap of 71 colors created\n",
      "psmask: Allocate memory, read and process data file\n",
      "psmask: Processing input table data\n",
      "psmask: Read 4913 data points\n",
      "psmask: Tracing the clip path\n",
      "psmask: Clipping on!\n",
      "psmask: Clipping off!\n",
      "psxy: Processing input table data\n",
      "psscale: Processing input CPT\n",
      "psscale:   CPT range from 2019 to 2020\n",
      "psscale: Processing input CPT\n",
      "psscale:   CPT range from 0 to 200\n",
      "PSL: Warning: Use of colormap is inefficient - using 24-bit direct color instead.\n",
      "PSL: Warning: no deflate compression done.\n",
      "pscoast: parse_B_arg_inspector: Detected GMT 4 style elements in -B option\n",
      "pscoast: GSHHG version 2.3.7\n",
      "Derived from World Vector Shoreline, CIA WDB-II, and Atlas of the Cryosphere\n",
      "Processed by Paul Wessel and Walter H. F. Smith, 1994-2017\n",
      "pscoast: Working on bin #   723\n",
      "pscoast: Adding Borders...pscoast: Done\n"
     ]
    }
   ],
   "source": [
    "# loop over test directories containing output files of surfacevel2strain (*dat files)\n",
    "ref = \"IGS14\"\n",
    "localdir=os.getcwd()\n",
    "os.makedirs(localdir+\"/videostrainrate\",exist_ok=True)\n",
    "for testdir in sorted(glob.glob(localdir+\"/test_*/\")):\n",
    "    namedir = testdir.split(\"/\")[-2]\n",
    "    ini = namedir.split(\"_\")[1][0:4] + \".\" + namedir.split(\"_\")[1][4:]\n",
    "    print(ini)\n",
    "    print(namedir)\n",
    "    fin = namedir.split(\"_\")[2][0:4] + \".\" + namedir.split(\"_\")[2][4:]\n",
    "    velfile = \"cGPS_GrAtSiD_velocities_\"+ref+\"_italy_\"+ini+\"_\"+fin+\"_compearth_format.vel\"\n",
    "    time = ini+\"_\"+fin\n",
    "    label = namedir[5:]\n",
    "    year = label[0:4]\n",
    "    print(namedir,label, velfile,year)\n",
    "    subprocess.call(\"bash plot_secondinv_multipleTapefolder.sh \"+namedir+\" \"+label+\" \"+velfile+\" \"+year, shell=True)\n",
    "    dest = localdir+ \"/videostrainrate\"\n",
    "    png = \"SIstrainrate_tape2009.png\"\n",
    "    newname = png.split(\".\")[0]+\"_\"+label+\".png\"\n",
    "    \n",
    "    shutil.move(localdir+\"/\"+namedir+\"/\"+png , dest+\"/\"+newname)"
   ]
  }
 ],
 "metadata": {
  "kernelspec": {
   "display_name": "Python 3 (ipykernel)",
   "language": "python",
   "name": "python3"
  },
  "language_info": {
   "codemirror_mode": {
    "name": "ipython",
    "version": 3
   },
   "file_extension": ".py",
   "mimetype": "text/x-python",
   "name": "python",
   "nbconvert_exporter": "python",
   "pygments_lexer": "ipython3",
   "version": "3.7.11"
  }
 },
 "nbformat": 4,
 "nbformat_minor": 5
}
